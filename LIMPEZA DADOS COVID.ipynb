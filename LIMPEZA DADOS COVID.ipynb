{
 "cells": [
  {
   "cell_type": "code",
   "execution_count": 1,
   "id": "ec0f8283",
   "metadata": {},
   "outputs": [
    {
     "data": {
      "text/html": [
       "<div>\n",
       "<style scoped>\n",
       "    .dataframe tbody tr th:only-of-type {\n",
       "        vertical-align: middle;\n",
       "    }\n",
       "\n",
       "    .dataframe tbody tr th {\n",
       "        vertical-align: top;\n",
       "    }\n",
       "\n",
       "    .dataframe thead th {\n",
       "        text-align: right;\n",
       "    }\n",
       "</style>\n",
       "<table border=\"1\" class=\"dataframe\">\n",
       "  <thead>\n",
       "    <tr style=\"text-align: right;\">\n",
       "      <th></th>\n",
       "      <th>claim_uid</th>\n",
       "      <th>cord_uid</th>\n",
       "      <th>title</th>\n",
       "      <th>doi</th>\n",
       "      <th>numerical_claims</th>\n",
       "      <th>publish_time</th>\n",
       "      <th>authors</th>\n",
       "      <th>journal</th>\n",
       "      <th>country</th>\n",
       "      <th>institution</th>\n",
       "    </tr>\n",
       "  </thead>\n",
       "  <tbody>\n",
       "    <tr>\n",
       "      <th>0</th>\n",
       "      <td>3vrndj</td>\n",
       "      <td>6lnxb0px</td>\n",
       "      <td>Synchronized Biventricular Heart Pacing in a C...</td>\n",
       "      <td>10.1038/s41598-020-59017-z</td>\n",
       "      <td>BiV pacing with LV-lead 20 ms and 40 ms are de...</td>\n",
       "      <td>2020-02-07</td>\n",
       "      <td>Lyu, Hongming; John, Mathews; Burkland, David;...</td>\n",
       "      <td>Sci Rep</td>\n",
       "      <td>USA</td>\n",
       "      <td>University of California Los Angeles</td>\n",
       "    </tr>\n",
       "    <tr>\n",
       "      <th>1</th>\n",
       "      <td>7zkivf</td>\n",
       "      <td>6lnxb0px</td>\n",
       "      <td>Synchronized Biventricular Heart Pacing in a C...</td>\n",
       "      <td>10.1038/s41598-020-59017-z</td>\n",
       "      <td>The closed-chest pacing only requires the exte...</td>\n",
       "      <td>2020-02-07</td>\n",
       "      <td>Lyu, Hongming; John, Mathews; Burkland, David;...</td>\n",
       "      <td>Sci Rep</td>\n",
       "      <td>USA</td>\n",
       "      <td>University of California Los Angeles</td>\n",
       "    </tr>\n",
       "    <tr>\n",
       "      <th>2</th>\n",
       "      <td>6zvpfq</td>\n",
       "      <td>4wuv6ntb</td>\n",
       "      <td>Blindness: behaviour in an epidemic(†)</td>\n",
       "      <td>10.1093/pubmed/fdaa050</td>\n",
       "      <td>In particular, we know that (i) the virus has ...</td>\n",
       "      <td>2020-05-13</td>\n",
       "      <td>Zatta, Marta; Braut, Beatrice</td>\n",
       "      <td>J Public Health (Oxf)</td>\n",
       "      <td>Italy</td>\n",
       "      <td>University Hospital of Trieste</td>\n",
       "    </tr>\n",
       "    <tr>\n",
       "      <th>3</th>\n",
       "      <td>9xtalf</td>\n",
       "      <td>4wuv6ntb</td>\n",
       "      <td>Blindness: behaviour in an epidemic(†)</td>\n",
       "      <td>10.1093/pubmed/fdaa050</td>\n",
       "      <td>If the doctor in the novel pointed out: that h...</td>\n",
       "      <td>2020-05-13</td>\n",
       "      <td>Zatta, Marta; Braut, Beatrice</td>\n",
       "      <td>J Public Health (Oxf)</td>\n",
       "      <td>Italy</td>\n",
       "      <td>University Hospital of Trieste</td>\n",
       "    </tr>\n",
       "    <tr>\n",
       "      <th>4</th>\n",
       "      <td>4dmjgn</td>\n",
       "      <td>b8gm6cr6</td>\n",
       "      <td>Is Exercise the Best Medicine during a COVID-1...</td>\n",
       "      <td>10.3390/ijerph17165730</td>\n",
       "      <td>Data suggests that 74% of COVID-19 cases may b...</td>\n",
       "      <td>2020-08-08</td>\n",
       "      <td>Hew-Butler, Tamara; Smith-Hale, Valerie; Van S...</td>\n",
       "      <td>Int J Environ Res Public Health</td>\n",
       "      <td>USA</td>\n",
       "      <td>Wayne State University</td>\n",
       "    </tr>\n",
       "  </tbody>\n",
       "</table>\n",
       "</div>"
      ],
      "text/plain": [
       "  claim_uid  cord_uid                                              title  \\\n",
       "0    3vrndj  6lnxb0px  Synchronized Biventricular Heart Pacing in a C...   \n",
       "1    7zkivf  6lnxb0px  Synchronized Biventricular Heart Pacing in a C...   \n",
       "2    6zvpfq  4wuv6ntb             Blindness: behaviour in an epidemic(†)   \n",
       "3    9xtalf  4wuv6ntb             Blindness: behaviour in an epidemic(†)   \n",
       "4    4dmjgn  b8gm6cr6  Is Exercise the Best Medicine during a COVID-1...   \n",
       "\n",
       "                          doi  \\\n",
       "0  10.1038/s41598-020-59017-z   \n",
       "1  10.1038/s41598-020-59017-z   \n",
       "2      10.1093/pubmed/fdaa050   \n",
       "3      10.1093/pubmed/fdaa050   \n",
       "4      10.3390/ijerph17165730   \n",
       "\n",
       "                                    numerical_claims publish_time  \\\n",
       "0  BiV pacing with LV-lead 20 ms and 40 ms are de...   2020-02-07   \n",
       "1  The closed-chest pacing only requires the exte...   2020-02-07   \n",
       "2  In particular, we know that (i) the virus has ...   2020-05-13   \n",
       "3  If the doctor in the novel pointed out: that h...   2020-05-13   \n",
       "4  Data suggests that 74% of COVID-19 cases may b...   2020-08-08   \n",
       "\n",
       "                                             authors  \\\n",
       "0  Lyu, Hongming; John, Mathews; Burkland, David;...   \n",
       "1  Lyu, Hongming; John, Mathews; Burkland, David;...   \n",
       "2                      Zatta, Marta; Braut, Beatrice   \n",
       "3                      Zatta, Marta; Braut, Beatrice   \n",
       "4  Hew-Butler, Tamara; Smith-Hale, Valerie; Van S...   \n",
       "\n",
       "                           journal country  \\\n",
       "0                          Sci Rep     USA   \n",
       "1                          Sci Rep     USA   \n",
       "2            J Public Health (Oxf)   Italy   \n",
       "3            J Public Health (Oxf)   Italy   \n",
       "4  Int J Environ Res Public Health     USA   \n",
       "\n",
       "                            institution  \n",
       "0  University of California Los Angeles  \n",
       "1  University of California Los Angeles  \n",
       "2        University Hospital of Trieste  \n",
       "3        University Hospital of Trieste  \n",
       "4                Wayne State University  "
      ]
     },
     "execution_count": 1,
     "metadata": {},
     "output_type": "execute_result"
    }
   ],
   "source": [
    "import pandas as pd\n",
    "\n",
    "# Carregando o conjunto de dados\n",
    "df = pd.read_csv('concord.csv')\n",
    "\n",
    "# Visualizando o dataframe\n",
    "df.head()\n"
   ]
  },
  {
   "cell_type": "code",
   "execution_count": 2,
   "id": "e846e62d",
   "metadata": {},
   "outputs": [
    {
     "data": {
      "text/plain": [
       "claim_uid              0\n",
       "cord_uid               0\n",
       "title                  0\n",
       "doi                    0\n",
       "numerical_claims       0\n",
       "publish_time           0\n",
       "authors                0\n",
       "journal                0\n",
       "country             4052\n",
       "institution         7398\n",
       "dtype: int64"
      ]
     },
     "execution_count": 2,
     "metadata": {},
     "output_type": "execute_result"
    }
   ],
   "source": [
    "df.isnull().sum()"
   ]
  },
  {
   "cell_type": "code",
   "execution_count": 3,
   "id": "dd4c54c0",
   "metadata": {},
   "outputs": [],
   "source": [
    "#Acabamos de visualizar que a coluna country tem 4052 valores ausente "
   ]
  },
  {
   "cell_type": "code",
   "execution_count": 4,
   "id": "6c18f725",
   "metadata": {},
   "outputs": [],
   "source": [
    "# E também o institution tem 7398 valores ausentes \n"
   ]
  },
  {
   "cell_type": "code",
   "execution_count": 5,
   "id": "3a31011b",
   "metadata": {},
   "outputs": [],
   "source": [
    "#Para manter uma integralidade dos dados e realizar uma análise sem modificações significativas, iremos substituir os valores\n",
    "#ausentes por campos de \"Desconhecido\" e \"Não informado\" para que análise seja precisa e específica "
   ]
  },
  {
   "cell_type": "code",
   "execution_count": 6,
   "id": "496ed453",
   "metadata": {},
   "outputs": [],
   "source": [
    "# Preenchendo os valores nulos na coluna 'país' com 'Desconhecido'\n",
    "df['country'].fillna('Unknown', inplace=True)\n",
    "\n",
    "# Preencher valores nulos na coluna 'instituição' com 'Não Informado'\n",
    "df['institution'].fillna('Uninformed', inplace=True)\n"
   ]
  },
  {
   "cell_type": "code",
   "execution_count": 7,
   "id": "7e918f46",
   "metadata": {},
   "outputs": [
    {
     "name": "stdout",
     "output_type": "stream",
     "text": [
      "claim_uid           0\n",
      "cord_uid            0\n",
      "title               0\n",
      "doi                 0\n",
      "numerical_claims    0\n",
      "publish_time        0\n",
      "authors             0\n",
      "journal             0\n",
      "country             0\n",
      "institution         0\n",
      "dtype: int64\n"
     ]
    }
   ],
   "source": [
    "print(df.isnull().sum())"
   ]
  },
  {
   "cell_type": "code",
   "execution_count": null,
   "id": "1f7b6561",
   "metadata": {},
   "outputs": [],
   "source": [
    "#Após a verificação, temos os dados limpos para podermos realizar as operações necessárias "
   ]
  }
 ],
 "metadata": {
  "kernelspec": {
   "display_name": "Python 3 (ipykernel)",
   "language": "python",
   "name": "python3"
  },
  "language_info": {
   "codemirror_mode": {
    "name": "ipython",
    "version": 3
   },
   "file_extension": ".py",
   "mimetype": "text/x-python",
   "name": "python",
   "nbconvert_exporter": "python",
   "pygments_lexer": "ipython3",
   "version": "3.9.13"
  }
 },
 "nbformat": 4,
 "nbformat_minor": 5
}
